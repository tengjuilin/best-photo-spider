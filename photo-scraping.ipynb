{
 "cells": [
  {
   "cell_type": "markdown",
   "id": "5aa5a45f-0bb1-4420-b0a9-c1b504ffc7ac",
   "metadata": {},
   "source": [
    "# Photo Scraping of Best Educational Organization Website\n",
    "\n",
    "Teng-Jui Lin\n",
    "\n",
    "Created: 2022-09-05\n",
    "\n",
    "Edited: 2022-09-05\n",
    "\n",
    "Objective: Scrape photos from [Best Educational Organization website](https://www.bestsch.cn/best/public/news)'s news articles, including those from Best International Primary School and Kinglee High School.\n",
    "\n",
    "Assumption: Project root directory has an `output` folder that contains `Primary School` and `KHS` folders.\n",
    "\n",
    "Note that the website is slow to open, so the code takes time to run. BeautifulSoup is not used because the images are loaded in with JavaScript."
   ]
  },
  {
   "cell_type": "code",
   "execution_count": 1,
   "id": "a50e3060-a259-44f0-af6c-2ea9d82f2f54",
   "metadata": {},
   "outputs": [],
   "source": [
    "import os\n",
    "import urllib\n",
    "\n",
    "import requests\n",
    "from selenium import webdriver\n",
    "from selenium.webdriver.chrome.service import Service\n",
    "from selenium.webdriver.common.by import By\n",
    "from webdriver_manager.chrome import ChromeDriverManager"
   ]
  },
  {
   "cell_type": "code",
   "execution_count": 2,
   "id": "c910d95b-6663-47ea-966e-795b3b07b2aa",
   "metadata": {},
   "outputs": [],
   "source": [
    "def get_imgs(base, conditions):\n",
    "    # get full url\n",
    "    url_conditions = urllib.parse.urlencode(conditions)\n",
    "    URL = base + url_conditions\n",
    "    \n",
    "    # publication number\n",
    "    pubid = conditions['pubid']\n",
    "    # school id: 7=best primary, 14=kinglee high\n",
    "    sid = conditions['sid']\n",
    "    \n",
    "    # create headless chrome browser\n",
    "    options = webdriver.ChromeOptions()\n",
    "    options.add_argument('headless')\n",
    "    driver = webdriver.Chrome(\n",
    "        service=Service(ChromeDriverManager().install()), \n",
    "        options=options\n",
    "    )\n",
    "    # open url\n",
    "    driver.get(URL)\n",
    "    \n",
    "    # get publication title\n",
    "    # if article does not exist, it will be sent to the main page that does not have h4\n",
    "    try:\n",
    "        title = driver.find_element(By.TAG_NAME, 'h4').text.replace('/', '|')\n",
    "    except:\n",
    "        driver.close()\n",
    "        return\n",
    "    \n",
    "    # get time and output path\n",
    "    time = driver.find_elements(By.XPATH, 'html/body/div/div/section/div/div/div/div')[1].text\n",
    "    if sid == 7:\n",
    "        time = time.strip('贝斯特外语小学 /').replace(':', '-')\n",
    "        output_path = f'output/Primary School/{pubid} {time} {title}'\n",
    "    elif sid == 14:\n",
    "        time = time.strip('勤礼外语中学 / ').replace(':', '-')\n",
    "        output_path = f'output/KHS/{pubid} {time} {title}'\n",
    "    else:\n",
    "        raise ValueError\n",
    "\n",
    "    # get images\n",
    "    img_elements = driver.find_elements(By.CLASS_NAME, 'News_Img')\n",
    "    \n",
    "    # make output path\n",
    "    if not os.path.isdir(output_path) and img_elements:\n",
    "        os.mkdir(output_path)\n",
    "        \n",
    "    # save images\n",
    "    for i, img_element in enumerate(img_elements):\n",
    "        img_url = img_element.get_property('src')\n",
    "        urllib.request.urlretrieve(img_url, f'{output_path}/{pubid} {time} {title} {i}.jpg')\n",
    "        \n",
    "    # close browser\n",
    "    driver.close()"
   ]
  },
  {
   "cell_type": "code",
   "execution_count": 3,
   "id": "58b790db-66cb-4ab7-ac52-0bd289b50bc9",
   "metadata": {},
   "outputs": [],
   "source": [
    "def get_pubids(base, conditions):\n",
    "    # get full url\n",
    "    url_conditions = urllib.parse.urlencode(conditions)\n",
    "    URL = base + url_conditions\n",
    "\n",
    "    # create headless chrome browser\n",
    "    options = webdriver.ChromeOptions()\n",
    "    options.add_argument('headless')\n",
    "    driver = webdriver.Chrome(\n",
    "        service=Service(ChromeDriverManager().install()), \n",
    "        options=options\n",
    "    )\n",
    "    # open url\n",
    "    driver.get(URL)\n",
    "    \n",
    "    # get pubids\n",
    "    pubids = []\n",
    "    article_elements = driver.find_elements(By.XPATH, 'html/body/div/section/div/div/div/table/tbody/tr')\n",
    "    for i, article_element in enumerate(article_elements):\n",
    "        pubid = article_element.get_attribute('auto-id')\n",
    "        pubids.append(pubid)\n",
    "    \n",
    "    # close browser\n",
    "    driver.close()\n",
    "    return pubids"
   ]
  },
  {
   "cell_type": "code",
   "execution_count": 4,
   "id": "a37f22fd-6614-48de-ba5b-697ef86adca8",
   "metadata": {},
   "outputs": [],
   "source": [
    "ARTICLE_LIST_BASE_URL = 'https://www.bestsch.cn/best/public/news?'\n",
    "ARITCLE_BASE_URL = 'https://www.bestsch.cn/best/public/news/single?'\n",
    "PRIMARY_SCHOOL_SID = 7\n",
    "HIGH_SCHOOL_SID = 14"
   ]
  },
  {
   "cell_type": "code",
   "execution_count": null,
   "id": "7d441104-b437-4efb-a42d-1bda75a6f7b2",
   "metadata": {},
   "outputs": [],
   "source": [
    "for article_list_page in range(171, 0, -1):  # page 171 - 1 of article list for primary school\n",
    "    article_list_conditions = {'page': article_list_page, 'dpid': PRIMARY_SCHOOL_SID, 'kw': ''}\n",
    "    article_pubids = get_pubids(ARTICLE_LIST_BASE_URL, article_list_conditions)\n",
    "    for article_pubid in article_pubids:\n",
    "        article_conditions = {'pubid': article_pubid, 'pubtp': 'news', 'mid': 1, 'sid': PRIMARY_SCHOOL_SID}\n",
    "        get_imgs(ARITCLE_BASE_URL, article_conditions)"
   ]
  },
  {
   "cell_type": "code",
   "execution_count": null,
   "id": "7cf769e5-8407-4484-b2c0-af0a93fa3b10",
   "metadata": {},
   "outputs": [],
   "source": [
    "for article_list_page in range(64, 0, -1):  # page 64 - 1 of article list for high school\n",
    "    article_list_conditions = {'page': article_list_page, 'dpid': HIGH_SCHOOL_SID, 'kw': ''}\n",
    "    article_pubids = get_pubids(ARTICLE_LIST_BASE_URL, article_list_conditions)\n",
    "    for article_pubid in article_pubids:\n",
    "        article_conditions = {'pubid': article_pubid, 'pubtp': 'news', 'mid': 1, 'sid': HIGH_SCHOOL_SID}\n",
    "        get_imgs(ARITCLE_BASE_URL, article_conditions)"
   ]
  }
 ],
 "metadata": {
  "kernelspec": {
   "display_name": "Python 3 (ipykernel)",
   "language": "python",
   "name": "python3"
  },
  "language_info": {
   "codemirror_mode": {
    "name": "ipython",
    "version": 3
   },
   "file_extension": ".py",
   "mimetype": "text/x-python",
   "name": "python",
   "nbconvert_exporter": "python",
   "pygments_lexer": "ipython3",
   "version": "3.9.13"
  }
 },
 "nbformat": 4,
 "nbformat_minor": 5
}
